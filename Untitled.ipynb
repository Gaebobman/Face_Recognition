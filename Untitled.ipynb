{
 "cells": [
  {
   "cell_type": "code",
   "execution_count": 1,
   "id": "cc508f43",
   "metadata": {},
   "outputs": [],
   "source": [
    "import pymysql\n",
    "import time\n",
    "import datetime"
   ]
  },
  {
   "cell_type": "code",
   "execution_count": 2,
   "id": "5bc699e5",
   "metadata": {},
   "outputs": [],
   "source": [
    "host_, user_, password_, db_ = ['IP_ADDRESS', 'MYSQL_ID', 'PASS_WORD', 'DB']"
   ]
  },
  {
   "cell_type": "code",
   "execution_count": 4,
   "id": "a394b878",
   "metadata": {},
   "outputs": [
    {
     "name": "stdout",
     "output_type": "stream",
     "text": [
      "('Lee', datetime.datetime(2023, 5, 5, 16, 28, 7))\n",
      "('Lee', datetime.datetime(2023, 5, 5, 16, 36, 3))\n",
      "('sung_jun', datetime.datetime(2023, 5, 5, 16, 51, 42))\n"
     ]
    }
   ],
   "source": [
    "# SELECT Example 1\n",
    "conn = pymysql.connect(host=host_, user=user_,\n",
    "                       password=password_, db=db_, charset='utf8')\n",
    "try:\n",
    "    curs = conn.cursor()\n",
    "    sql = \"SELECT * FROM visitor_info\"\n",
    "    curs.execute(sql)\n",
    "    datas = curs.fetchall()\n",
    "    for data in datas:\n",
    "        print(data)\n",
    "finally:\n",
    "    conn.close()"
   ]
  },
  {
   "cell_type": "code",
   "execution_count": 7,
   "id": "7ed62bcf",
   "metadata": {},
   "outputs": [
    {
     "name": "stdout",
     "output_type": "stream",
     "text": [
      "('Lee', datetime.datetime(2023, 5, 5, 16, 28, 7))\n"
     ]
    }
   ],
   "source": [
    "# SELECT Example 2\n",
    "conn = pymysql.connect(host=host_, user=user_,\n",
    "                       password=password_, db=db_, charset='utf8')\n",
    "try:\n",
    "    curs = conn.cursor()\n",
    "    sql = \"SELECT * FROM visitor_info\"\n",
    "    curs.execute(sql)\n",
    "    data = curs.fetchall()\n",
    "    print(data[0])\n",
    "finally:\n",
    "    conn.close()"
   ]
  },
  {
   "cell_type": "code",
   "execution_count": 9,
   "id": "791648b0",
   "metadata": {},
   "outputs": [],
   "source": [
    "# DELETE Example 1\n",
    "conn = pymysql.connect(host=host_, user=user_,\n",
    "                       password=password_, db=db_, charset='utf8')\n",
    "try:\n",
    "    curs = conn.cursor()\n",
    "    sql = \"DELETE FROM visitor_info WHERE user_id=%s\"\n",
    "    val = (\"Lee\")\n",
    "    curs.execute(sql, val)\n",
    "    conn.commit()\n",
    "\n",
    "finally:\n",
    "    conn.close()\n"
   ]
  },
  {
   "cell_type": "code",
   "execution_count": 10,
   "id": "8131ae2d",
   "metadata": {},
   "outputs": [],
   "source": [
    "# Insert Example 1\n",
    "conn = pymysql.connect(host=host_, user=user_,\n",
    "                       password=password_, db=db_, charset='utf8')\n",
    "\n",
    "try:\n",
    "    curs = conn.cursor()\n",
    "    sql = \"INSERT INTO visitor_info VALUES (%s, %s)\"\n",
    "    ts = time.time()\n",
    "    timestamp = datetime.datetime.fromtimestamp(ts).strftime('%Y-%m-%d %H:%M:%S')\n",
    "    val = (\"lee\", timestamp)\n",
    "    curs.execute(sql, val)\n",
    "    conn.commit()\n",
    "finally: \n",
    "    conn.close()"
   ]
  },
  {
   "cell_type": "code",
   "execution_count": null,
   "id": "6831f7d4",
   "metadata": {},
   "outputs": [],
   "source": []
  },
  {
   "cell_type": "code",
   "execution_count": null,
   "id": "be46bf6b",
   "metadata": {},
   "outputs": [],
   "source": []
  }
 ],
 "metadata": {
  "kernelspec": {
   "display_name": "Python 3 (ipykernel)",
   "language": "python",
   "name": "python3"
  },
  "language_info": {
   "codemirror_mode": {
    "name": "ipython",
    "version": 3
   },
   "file_extension": ".py",
   "mimetype": "text/x-python",
   "name": "python",
   "nbconvert_exporter": "python",
   "pygments_lexer": "ipython3",
   "version": "3.9.13"
  }
 },
 "nbformat": 4,
 "nbformat_minor": 5
}
