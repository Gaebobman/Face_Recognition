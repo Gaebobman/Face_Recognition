{
 "cells": [
  {
   "cell_type": "code",
   "execution_count": 1,
   "id": "868690a2",
   "metadata": {},
   "outputs": [],
   "source": [
    "import cv2\n",
    "import numpy as np\n",
    "import face_recognition\n",
    "import os\n",
    "# from os import makedirs, listdir\n",
    "# from os.path import isdir, isfile, join"
   ]
  },
  {
   "cell_type": "code",
   "execution_count": 2,
   "id": "787a87b3",
   "metadata": {},
   "outputs": [],
   "source": [
    "# https://blog.naver.com/chandong83/221695462391\n",
    "\n",
    "# function for consecutive capture\n",
    "def detect_face(frame, classifier):\n",
    "    grayscale_frame = cv2.cvtColor(frame, cv2.COLOR_BGR2GRAY)\n",
    "    faces = classifier.detectMultiScale(grayscale_frame, 1.3, 5)   # image, image_scale, max_faces\n",
    "    if len(faces) == 0:\n",
    "        return None\n",
    "    for(x,y,w,h) in faces:\n",
    "        margin = 0.1 # 배경 비율\n",
    "        x = int (x - w * margin) # x 좌표를 왼쪽으로 이동\n",
    "        y = int (y - h * margin) # y 좌표를 위로 이동\n",
    "        w = int (w * (1 + margin * 2)) # 너비를 늘림\n",
    "        h = int (h * (1 + margin * 2)) # 높이를 늘림\n",
    "        cropped_face = frame[y:y+h, x:x+w]\n",
    "    \n",
    "    return cropped_face\n"
   ]
  },
  {
   "cell_type": "code",
   "execution_count": 3,
   "id": "0e9a27b8",
   "metadata": {},
   "outputs": [],
   "source": [
    "# https://blog.naver.com/chandong83/221695462391\n",
    "\n",
    "def capture_face(user_name):\n",
    "    classifier = cv2.CascadeClassifier(\"data/haarcascade_frontalface_default.xml\")\n",
    "    if not isdir(f\"data/sub_data/{user_name}\"):\n",
    "        makedirs(f\"data/sub_data/{user_name}\")\n",
    "    capture= cv2.VideoCapture(0)\n",
    "    count = 0\n",
    "    \n",
    "    while True:\n",
    "        result, frame = capture.read()\n",
    "        if detect_face(frame, classifier) is not None:\n",
    "            count+=1\n",
    "            face = cv2.resize(detect_face(frame, classifier),(200,200))\n",
    "            # face = cv2.cvtColor(face, cv2.COLOR_BGR2GRAY)\n",
    "            cv2.imwrite(f\"data/sub_data/{user_name}/{user_name}-{count}.png\",face)\n",
    "            cv2.putText(face,str(count),(50,50),cv2.FONT_HERSHEY_COMPLEX,1,(255,0,0),2)\n",
    "            cv2.imshow('Face Cropper',face)\n",
    "        else:\n",
    "            print(\"Face not Found\")\n",
    "            pass\n",
    "        # Press Enter or get 50images to break\n",
    "        if cv2.waitKey(1)==13 or count==50:\n",
    "            break\n",
    "\n",
    "    capture.release()\n",
    "    cv2.destroyAllWindows()\n",
    "    print('Colleting Samples Complete!!!')"
   ]
  },
  {
   "cell_type": "code",
   "execution_count": 95,
   "id": "66213b86",
   "metadata": {
    "scrolled": false
   },
   "outputs": [
    {
     "name": "stdout",
     "output_type": "stream",
     "text": [
      "000\n",
      "Colleting Samples Complete!!!\n"
     ]
    }
   ],
   "source": [
    "user_name = input().strip()\n",
    "capture_face(user_name)"
   ]
  },
  {
   "cell_type": "code",
   "execution_count": 4,
   "id": "44014350",
   "metadata": {},
   "outputs": [],
   "source": [
    "path = 'data/sub_data'\n",
    "user_list = [item for item in os.listdir (path) if os.path.isdir (os.path.join (path, item))]"
   ]
  },
  {
   "cell_type": "code",
   "execution_count": 5,
   "id": "8ec5a8bb",
   "metadata": {},
   "outputs": [
    {
     "data": {
      "text/plain": [
       "['calmdownman', 'former_cafe_owner', 'kane', 'lee', 'pearl', 'seung_yeon']"
      ]
     },
     "execution_count": 5,
     "metadata": {},
     "output_type": "execute_result"
    }
   ],
   "source": [
    "user_list"
   ]
  },
  {
   "cell_type": "code",
   "execution_count": 6,
   "id": "6d7fc360",
   "metadata": {},
   "outputs": [],
   "source": [
    "import math\n",
    "from sklearn import neighbors\n",
    "import os\n",
    "import os.path\n",
    "import pickle\n",
    "from PIL import Image, ImageDraw\n",
    "import face_recognition\n",
    "from face_recognition.face_recognition_cli import image_files_in_folder"
   ]
  },
  {
   "cell_type": "code",
   "execution_count": 7,
   "id": "4ff99421",
   "metadata": {},
   "outputs": [],
   "source": [
    "# https://github.com/ageitgey/face_recognition/blob/master/examples/face_recognition_knn.py\n",
    "\n",
    "ALLOWED_EXTENSIONS = {'png', 'jpg', 'jpeg'}\n",
    "\n",
    "\n",
    "def train(train_dir, model_save_path=None, n_neighbors=None, knn_algo='ball_tree', verbose=False):\n",
    "    \"\"\"\n",
    "    Trains a k-nearest neighbors classifier for face recognition.\n",
    "\n",
    "    :param train_dir: directory that contains a sub-directory for each known person, with its name.\n",
    "\n",
    "     (View in source code to see train_dir example tree structure)\n",
    "\n",
    "     Structure:\n",
    "        <train_dir>/\n",
    "        ├── <person1>/\n",
    "        │   ├── <somename1>.jpeg\n",
    "        │   ├── <somename2>.jpeg\n",
    "        │   ├── ...\n",
    "        ├── <person2>/\n",
    "        │   ├── <somename1>.jpeg\n",
    "        │   └── <somename2>.jpeg\n",
    "        └── ...\n",
    "\n",
    "    :param model_save_path: (optional) path to save model on disk\n",
    "    :param n_neighbors: (optional) number of neighbors to weigh in classification. Chosen automatically if not specified\n",
    "    :param knn_algo: (optional) underlying data structure to support knn.default is ball_tree\n",
    "    :param verbose: verbosity of training\n",
    "    :return: returns knn classifier that was trained on the given data.\n",
    "    \"\"\"\n",
    "    X = []\n",
    "    y = []\n",
    "\n",
    "    # Loop through each person in the training set\n",
    "    for class_dir in os.listdir(train_dir):\n",
    "        if not os.path.isdir(os.path.join(train_dir, class_dir)):\n",
    "            continue\n",
    "\n",
    "        # Loop through each training image for the current person\n",
    "        for img_path in image_files_in_folder(os.path.join(train_dir, class_dir)):\n",
    "            image = face_recognition.load_image_file(img_path)\n",
    "            face_bounding_boxes = face_recognition.face_locations(image)\n",
    "\n",
    "            if len(face_bounding_boxes) != 1:\n",
    "                # If there are no people (or too many people) in a training image, skip the image.\n",
    "                if verbose:\n",
    "                    print(\"Image {} not suitable for training: {}\".format(img_path, \"Didn't find a face\" if len(face_bounding_boxes) < 1 else \"Found more than one face\"))\n",
    "            else:\n",
    "                # Add face encoding for current image to the training set\n",
    "                X.append(face_recognition.face_encodings(image, known_face_locations=face_bounding_boxes)[0])\n",
    "                y.append(class_dir)\n",
    "\n",
    "    # Determine how many neighbors to use for weighting in the KNN classifier\n",
    "    if n_neighbors is None:\n",
    "        n_neighbors = int(round(math.sqrt(len(X))))\n",
    "        if verbose:\n",
    "            print(\"Chose n_neighbors automatically:\", n_neighbors)\n",
    "\n",
    "    # Create and train the KNN classifier\n",
    "    knn_clf = neighbors.KNeighborsClassifier(n_neighbors=n_neighbors, algorithm=knn_algo, weights='distance')\n",
    "    knn_clf.fit(X, y)\n",
    "\n",
    "    # Save the trained KNN classifier\n",
    "    if model_save_path is not None:\n",
    "        with open(model_save_path, 'wb') as f:\n",
    "            pickle.dump(knn_clf, f)\n",
    "\n",
    "    return knn_clf\n"
   ]
  },
  {
   "cell_type": "code",
   "execution_count": 8,
   "id": "ff1ae41d",
   "metadata": {},
   "outputs": [],
   "source": [
    "def predict(X_img_path, knn_clf=None, model_path=None, distance_threshold=0.6):\n",
    "    \"\"\"\n",
    "    Recognizes faces in given image using a trained KNN classifier\n",
    "\n",
    "    :param X_img_path: path to image to be recognized\n",
    "    :param knn_clf: (optional) a knn classifier object. if not specified, model_save_path must be specified.\n",
    "    :param model_path: (optional) path to a pickled knn classifier. if not specified, model_save_path must be knn_clf.\n",
    "    :param distance_threshold: (optional) distance threshold for face classification. the larger it is, the more chance\n",
    "           of mis-classifying an unknown person as a known one.\n",
    "    :return: a list of names and face locations for the recognized faces in the image: [(name, bounding box), ...].\n",
    "        For faces of unrecognized persons, the name 'unknown' will be returned.\n",
    "    \"\"\"\n",
    "    if not os.path.isfile(X_img_path) or os.path.splitext(X_img_path)[1][1:] not in ALLOWED_EXTENSIONS:\n",
    "        raise Exception(\"Invalid image path: {}\".format(X_img_path))\n",
    "\n",
    "    if knn_clf is None and model_path is None:\n",
    "        raise Exception(\"Must supply knn classifier either thourgh knn_clf or model_path\")\n",
    "\n",
    "    # Load a trained KNN model (if one was passed in)\n",
    "    if knn_clf is None:\n",
    "        with open(model_path, 'rb') as f:\n",
    "            knn_clf = pickle.load(f)\n",
    "\n",
    "    # Load image file and find face locations\n",
    "    X_img = face_recognition.load_image_file(X_img_path)\n",
    "    X_face_locations = face_recognition.face_locations(X_img)\n",
    "\n",
    "    # If no faces are found in the image, return an empty result.\n",
    "    if len(X_face_locations) == 0:\n",
    "        return []\n",
    "\n",
    "    # Find encodings for faces in the test iamge\n",
    "    faces_encodings = face_recognition.face_encodings(X_img, known_face_locations=X_face_locations)\n",
    "\n",
    "    # Use the KNN model to find the best matches for the test face\n",
    "    closest_distances = knn_clf.kneighbors(faces_encodings, n_neighbors=1)\n",
    "    are_matches = [closest_distances[0][i][0] <= distance_threshold for i in range(len(X_face_locations))]\n",
    "\n",
    "    # Predict classes and remove classifications that aren't within the threshold\n",
    "    return [(pred, loc) if rec else (\"unknown\", loc) for pred, loc, rec in zip(knn_clf.predict(faces_encodings), X_face_locations, are_matches)]\n"
   ]
  },
  {
   "cell_type": "code",
   "execution_count": 9,
   "id": "fcbaa7f0",
   "metadata": {},
   "outputs": [],
   "source": [
    "def show_prediction_labels_on_image(img_path, predictions):\n",
    "    \"\"\"\n",
    "    Shows the face recognition results visually.\n",
    "\n",
    "    :param img_path: path to image to be recognized\n",
    "    :param predictions: results of the predict function\n",
    "    :return:\n",
    "    \"\"\"\n",
    "    pil_image = Image.open(img_path).convert(\"RGB\")\n",
    "    draw = ImageDraw.Draw(pil_image)\n",
    "\n",
    "    for name, (top, right, bottom, left) in predictions:\n",
    "        # Draw a box around the face using the Pillow module\n",
    "        draw.rectangle(((left, top), (right, bottom)), outline=(0, 0, 255))\n",
    "\n",
    "        # There's a bug in Pillow where it blows up with non-UTF-8 text\n",
    "        # when using the default bitmap font\n",
    "        name = name.encode(\"UTF-8\")\n",
    "\n",
    "        # Draw a label with a name below the face\n",
    "        text_width, text_height = draw.textsize(name)\n",
    "        draw.rectangle(((left, bottom - text_height - 10), (right, bottom)), fill=(0, 0, 255), outline=(0, 0, 255))\n",
    "        draw.text((left + 6, bottom - text_height - 5), name, fill=(255, 255, 255, 255))\n",
    "\n",
    "    # Remove the drawing library from memory as per the Pillow docs\n",
    "    del draw\n",
    "\n",
    "    # Display the resulting image\n",
    "    pil_image.show()"
   ]
  },
  {
   "cell_type": "code",
   "execution_count": 14,
   "id": "209df83f",
   "metadata": {},
   "outputs": [],
   "source": [
    "#얼굴 검출 (실시간 웹캠)\n",
    "def face_detector(img, size = 0.5):\n",
    "        face_classifier = cv2.CascadeClassifier('data/haarcascade_frontalface_default.xml')\n",
    "        gray_scale = cv2.cvtColor(img, cv2.COLOR_BGR2GRAY)\n",
    "        faces = face_classifier.detectMultiScale(gray_scale,1.3,5)\n",
    "        if len(faces) == 0:\n",
    "            return img,[]\n",
    "        for(x,y,w,h) in faces:\n",
    "            cv2.rectangle(img, (x,y),(x+w,y+h),(0,255,255),2)\n",
    "            roi = img[y:y+h, x:x+w]\n",
    "            roi = cv2.resize(roi, (200,200))\n",
    "        return img,roi   #검출된 좌표에 사각 박스 그리고(img), 검출된 부위를 잘라(roi) 전달"
   ]
  },
  {
   "cell_type": "code",
   "execution_count": 26,
   "id": "add5bd13",
   "metadata": {},
   "outputs": [],
   "source": [
    "def detect_from_camera():    \n",
    "    #카메라 열기 \n",
    "    capture = cv2.VideoCapture(0)\n",
    "    capture.set (cv2.CAP_PROP_FPS, 10)\n",
    "    while True:\n",
    "        #카메라로 부터 사진 한장 읽기 \n",
    "        capture_result, frame = capture.read()\n",
    "        \n",
    "        # 얼굴 검출 시도 \n",
    "        image, face = face_detector(frame)\n",
    "        try:            \n",
    "            predictions = predict(face, model_path=\"data/trained_knn_model.clf\")\n",
    "            # Print results on the console\n",
    "            for name, (top, right, bottom, left) in predictions:\n",
    "                print(\"- Found {} at ({}, {})\".format(name, left, top))\n",
    "            \n",
    "            # Display results overlaid on an image\n",
    "#             show_prediction_labels_on_image(os.path.join(\"knn_examples/test\", image_file), predictions)       \n",
    "            cv2.putText(frame, f'Found{predictions[0]}',(100,120), cv2.FONT_HERSHEY_COMPLEX,1,(250,120,255),2)\n",
    "\n",
    "        except:\n",
    "            #얼굴 검출 안됨 \n",
    "            cv2.putText(frame, \"Face Not Found\", (250, 450), cv2.FONT_HERSHEY_COMPLEX, 1, (255, 0, 0), 2)\n",
    "            cv2.imshow('Face Cropper', frame)\n",
    "            pass\n",
    "        if cv2.waitKey(1)==13:\n",
    "            break\n",
    "    capture.release()\n",
    "    cv2.destroyAllWindows()"
   ]
  },
  {
   "cell_type": "code",
   "execution_count": 27,
   "id": "74344c76",
   "metadata": {},
   "outputs": [],
   "source": [
    "def main():\n",
    "    # STEP 1: Train the KNN classifier and save it to disk\n",
    "    # Once the model is trained and saved, you can skip this step next time.\n",
    "#     print(\"Training KNN classifier...\")\n",
    "#     classifier = train(\"data/sub_data\", model_save_path=\"data/trained_knn_model.clf\", n_neighbors=2)\n",
    "#     print(\"Training complete!\")\n",
    "\n",
    "    # STEP 2: Using the trained classifier, make predictions for unknown images\n",
    "    detect_from_camera()\n",
    "    # Find all people in the image using a trained classifier model\n",
    "        \n",
    "   \n"
   ]
  },
  {
   "cell_type": "code",
   "execution_count": 28,
   "id": "f6c3c0a1",
   "metadata": {
    "scrolled": true
   },
   "outputs": [],
   "source": [
    "main()"
   ]
  }
 ],
 "metadata": {
  "kernelspec": {
   "display_name": "Python 3 (ipykernel)",
   "language": "python",
   "name": "python3"
  },
  "language_info": {
   "codemirror_mode": {
    "name": "ipython",
    "version": 3
   },
   "file_extension": ".py",
   "mimetype": "text/x-python",
   "name": "python",
   "nbconvert_exporter": "python",
   "pygments_lexer": "ipython3",
   "version": "3.9.13"
  }
 },
 "nbformat": 4,
 "nbformat_minor": 5
}
