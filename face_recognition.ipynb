{
 "cells": [
  {
   "cell_type": "code",
   "execution_count": 1,
   "id": "d7b2b742",
   "metadata": {},
   "outputs": [],
   "source": [
    "import cv2\n",
    "import os"
   ]
  },
  {
   "cell_type": "markdown",
   "id": "fbd649d1",
   "metadata": {},
   "source": [
    "# Flow\n",
    "<ol>\n",
    "    <li>Register face if not registered  </li>\n",
    "    <li>Continue face recognition as requested by the server (Not actually implemented in this example)  </li>\n",
    "    <li>Capture and process image</li>\n",
    " </ol>"
   ]
  },
  {
   "cell_type": "code",
   "execution_count": 2,
   "id": "99af7a6a",
   "metadata": {},
   "outputs": [
    {
     "data": {
      "text/plain": [
       "'4.7.0'"
      ]
     },
     "execution_count": 2,
     "metadata": {},
     "output_type": "execute_result"
    }
   ],
   "source": [
    "cv2.__version__"
   ]
  },
  {
   "cell_type": "code",
   "execution_count": 9,
   "id": "ce591150",
   "metadata": {},
   "outputs": [],
   "source": [
    "# https://076923.github.io/posts/Python-opencv-2/\n",
    "# https://scribblinganything.tistory.com/472\n",
    "\n",
    "def capture():\n",
    "    capture= cv2.VideoCapture(0)    # If the webcam is not installed, the CSI Cam becomes the #0 camera\n",
    "    capture.set(cv2.CAP_PROP_FRAME_WIDTH, 640)\n",
    "    capture.set(cv2.CAP_PROP_FRAME_HEIGHT, 480)\n",
    "\n",
    "    while True:            # wait 33ms for key input, if key input detected, break Loop\n",
    "        capture_result, frame = capture.read()        # grab() and retrieve() in one call\n",
    "        cv2.imshow(\"VideoFrame\", frame)\n",
    "        if cv2.waitKey(1) == ord('c'):\n",
    "            break\n",
    "\n",
    "    capture.release()\n",
    "    cv2.destroyAllWindows()\n",
    "    \n",
    "    return capture_result, frame"
   ]
  },
  {
   "cell_type": "code",
   "execution_count": 4,
   "id": "908de3ba",
   "metadata": {},
   "outputs": [],
   "source": [
    "# https://ai0.kr/m/41\n",
    "\n",
    "def track_faces(capture, classifier, image_scale, max_faces):\n",
    "    capture_copy = capture.copy()\n",
    "    grayscale_capture = cv2.cvtColor(capture_copy, cv2.COLOR_BGR2GRAY)    # Apply Grayscale\n",
    "    detected_faces = classifier.detectMultiScale(grayscale_capture, image_scale, max_faces)\n",
    "    face_grids = []\n",
    "    \n",
    "#     LINE_THICKNESS = 2\n",
    "#     LINE_COLOR = (255,0,0)\n",
    "    for(x, y, w, h) in detected_faces:\n",
    "        # cv2.rectangle(capture_copy,(x, y), (x + w, y + h), LINE_COLOR, LINE_THICKNESS)\n",
    "        face_grids.append(((x, y), (x + w, y + h)))\n",
    "#     face_grids = sorted(face_grids, key = lambda x:x[1], reverse = True)\n",
    "    \n",
    "    return face_grids"
   ]
  },
  {
   "cell_type": "code",
   "execution_count": 7,
   "id": "6d214a32",
   "metadata": {},
   "outputs": [],
   "source": [
    "def main():\n",
    "    LINE_THICKNESS = 2\n",
    "    LINE_COLOR = (255,0,0)\n",
    "    classifier = cv2.CascadeClassifier(\"data/haarcascade_frontalface_default.xml\")\n",
    "    # Set Camera width and height (640 * 480)\n",
    "    camera_width = 640\n",
    "    camera_height = 480\n",
    "    \n",
    "    while True:\n",
    "        option = int(input(\"1: Register\\n2: Detect\\nselect option: \"))\n",
    "       \n",
    "        if option == 1:\n",
    "            user_name = input(\"Input User Name: \").strip()\n",
    "            capture_result, frame = capture()\n",
    "            \n",
    "            if capture_result == 1: \n",
    "                if os.path.isfile(f\"data/sub_data/{user_name}.png\"):\n",
    "                    os.remove(f\"data/sub_data/{user_name}.png\")\n",
    "                cv2.imwrite(f\"data/sub_data/{user_name}.png\", frame)\n",
    "                    \n",
    "                img_without_grid = cv2.imread(f\"data/sub_data/{user_name}.png\")\n",
    "                face_grids = track_faces(frame, classifier, 1.1, 2)\n",
    "                \n",
    "                for grid in face_grids:\n",
    "                    cv2.rectangle(img_without_grid, *grid, LINE_COLOR, LINE_THICKNESS)\n",
    "                    \n",
    "                cv2.imshow(\"Result\", img_without_grid)\n",
    "                cv2.waitKey(0)\n",
    "                cv2.destroyAllWindows()\n",
    "        elif(option == 2):\n",
    "            print(\"Detect From Image\")\n",
    "            break\n",
    "            \n",
    "        else:\n",
    "            break\n",
    "\n",
    "    cv2.destroyAllWindows()\n"
   ]
  },
  {
   "cell_type": "code",
   "execution_count": 10,
   "id": "35810d75",
   "metadata": {},
   "outputs": [
    {
     "name": "stdout",
     "output_type": "stream",
     "text": [
      "1: Register\n",
      "2: Detect\n",
      "select option: 1\n",
      "Input User Name: lee\n",
      "1: Register\n",
      "2: Detect\n",
      "select option: 2\n",
      "Detect From Image\n"
     ]
    }
   ],
   "source": [
    "main()"
   ]
  }
 ],
 "metadata": {
  "kernelspec": {
   "display_name": "Python 3 (ipykernel)",
   "language": "python",
   "name": "python3"
  },
  "language_info": {
   "codemirror_mode": {
    "name": "ipython",
    "version": 3
   },
   "file_extension": ".py",
   "mimetype": "text/x-python",
   "name": "python",
   "nbconvert_exporter": "python",
   "pygments_lexer": "ipython3",
   "version": "3.9.13"
  }
 },
 "nbformat": 4,
 "nbformat_minor": 5
}
