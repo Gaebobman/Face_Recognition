{
 "cells": [
  {
   "cell_type": "code",
   "execution_count": 1,
   "id": "d7b2b742",
   "metadata": {},
   "outputs": [],
   "source": [
    "import cv2\n",
    "import os"
   ]
  },
  {
   "cell_type": "markdown",
   "id": "fbd649d1",
   "metadata": {},
   "source": [
    "# Flow\n",
    "<ol>\n",
    "    <li>Register face if not registered  </li>\n",
    "    <li>Continue face recognition as requested by the server (Not actually implemented in this example)  </li>\n",
    "    <li>Capture and process image</li>\n",
    " </ol>"
   ]
  },
  {
   "cell_type": "markdown",
   "id": "a37fe111",
   "metadata": {},
   "source": [
    "# Chapter 1\n",
    "Detect Face from aimage and save it"
   ]
  },
  {
   "cell_type": "code",
   "execution_count": 29,
   "id": "557d0d07",
   "metadata": {},
   "outputs": [
    {
     "data": {
      "text/plain": [
       "'4.7.0'"
      ]
     },
     "execution_count": 29,
     "metadata": {},
     "output_type": "execute_result"
    }
   ],
   "source": [
    "cv2.__version__"
   ]
  },
  {
   "cell_type": "code",
   "execution_count": 3,
   "id": "ce591150",
   "metadata": {},
   "outputs": [],
   "source": [
    "# https://076923.github.io/posts/Python-opencv-2/\n",
    "# https://scribblinganything.tistory.com/472\n",
    "\n",
    "def capture():\n",
    "    capture= cv2.VideoCapture(0)    # If the webcam is not installed, the CSI Cam becomes the #0 camera\n",
    "    capture.set(cv2.CAP_PROP_FRAME_WIDTH, 640)\n",
    "    capture.set(cv2.CAP_PROP_FRAME_HEIGHT, 480)\n",
    "\n",
    "    while True:            # wait 33ms for key input, if key input detected, break Loop\n",
    "        capture_result, frame = capture.read()        # grab() and retrieve() in one call\n",
    "        cv2.imshow(\"VideoFrame\", frame)\n",
    "        if cv2.waitKey(1) == ord('c'):\n",
    "            break\n",
    "\n",
    "    capture.release()\n",
    "    cv2.destroyAllWindows()\n",
    "    \n",
    "    return capture_result, frame"
   ]
  },
  {
   "cell_type": "code",
   "execution_count": 26,
   "id": "908de3ba",
   "metadata": {},
   "outputs": [],
   "source": [
    "# https://ai0.kr/m/41\n",
    "\n",
    "def track_faces(capture, classifier, image_scale, max_faces):\n",
    "    capture_copy = capture.copy()\n",
    "    grayscale_capture = cv2.cvtColor(capture_copy, cv2.COLOR_BGR2GRAY)    # Apply Grayscale\n",
    "    faces = classifier.detectMultiScale(grayscale_capture, image_scale, max_faces)\n",
    "\n",
    "\n",
    "    return faces"
   ]
  },
  {
   "cell_type": "code",
   "execution_count": null,
   "id": "c1718a19",
   "metadata": {},
   "outputs": [],
   "source": []
  },
  {
   "cell_type": "code",
   "execution_count": null,
   "id": "85b1dc95",
   "metadata": {},
   "outputs": [],
   "source": []
  },
  {
   "cell_type": "code",
   "execution_count": null,
   "id": "e549a086",
   "metadata": {},
   "outputs": [],
   "source": []
  },
  {
   "cell_type": "code",
   "execution_count": null,
   "id": "baa8a9e2",
   "metadata": {},
   "outputs": [],
   "source": []
  },
  {
   "cell_type": "code",
   "execution_count": null,
   "id": "cfa3015f",
   "metadata": {},
   "outputs": [],
   "source": []
  },
  {
   "cell_type": "code",
   "execution_count": null,
   "id": "a6eda040",
   "metadata": {},
   "outputs": [],
   "source": []
  },
  {
   "cell_type": "code",
   "execution_count": null,
   "id": "01f97e78",
   "metadata": {},
   "outputs": [],
   "source": []
  },
  {
   "cell_type": "code",
   "execution_count": null,
   "id": "53ce7ba7",
   "metadata": {},
   "outputs": [],
   "source": []
  },
  {
   "cell_type": "code",
   "execution_count": null,
   "id": "2608441f",
   "metadata": {},
   "outputs": [],
   "source": []
  },
  {
   "cell_type": "code",
   "execution_count": null,
   "id": "39aa4b78",
   "metadata": {},
   "outputs": [],
   "source": []
  },
  {
   "cell_type": "code",
   "execution_count": 27,
   "id": "6d214a32",
   "metadata": {},
   "outputs": [],
   "source": [
    "def main():\n",
    "    LINE_THICKNESS = 2\n",
    "    LINE_COLOR = (255,0,0)\n",
    "    classifier = cv2.CascadeClassifier(\"data/haarcascade_frontalface_default.xml\")\n",
    "    # Set Camera width and height (640 * 480)\n",
    "    camera_width = 640\n",
    "    camera_height = 480\n",
    "    \n",
    "    while True:\n",
    "        option = int(input(\"1: Register\\n2: Detect\\nselect option: \"))\n",
    "       \n",
    "        if option == 1:\n",
    "            user_name = input(\"Input User Name: \").strip()\n",
    "            capture_result, frame = capture()\n",
    "            \n",
    "            if capture_result == 1: \n",
    "                \n",
    "                # Remove Image if there is a file with same name\n",
    "                if os.path.isfile(f\"data/sub_data/{user_name}.png\"):\n",
    "                    os.remove(f\"data/sub_data/{user_name}.png\")\n",
    "                cv2.imwrite(f\"data/sub_data/{user_name}.png\", frame)\n",
    "                img_without_grid = cv2.imread(f\"data/sub_data/{user_name}.png\")\n",
    "                faces = track_faces(frame, classifier, 1.1, 3)\n",
    "               \n",
    "                if(len(faces)<1):\n",
    "                    print(\"No Face detected, EXIT\")\n",
    "                    break\n",
    "                # frame, classifier, \n",
    "                for i, (x, y, w, h) in enumerate(faces):\n",
    "                    cv2.rectangle(img_without_grid, (x, y), (x+w,y+h), LINE_COLOR, LINE_THICKNESS)\n",
    "                    cv2.putText(img_without_grid, str(i), (x, y - 10), cv2.FONT_HERSHEY_SIMPLEX, 1, (255,0, 0), 2)\n",
    "                \n",
    "                # Show grid with Numbers\n",
    "                # TODO: SEND THIS TO ANDROID CLIENT\n",
    "                cv2.imshow(\"Enter the grid number you want to save\", img_without_grid)\n",
    "                cv2.waitKey(0)\n",
    "                cv2.destroyAllWindows()\n",
    "                \n",
    "                grid_number = int(input().strip())\n",
    "                # Assume you got the number from Android Client\n",
    "                # TODO: GET A GRID NUMBER FROM ANDROID CLIENT\n",
    "                \n",
    "                x, y, w, h = faces[grid_number]\n",
    "                print(f'y: {y}, x: {x}')\n",
    "                \n",
    "                # Crop Face and Apply Grayscale \n",
    "                grayscale_face = cv2.cvtColor(img_without_grid[y:y+h, x:x+w], cv2.COLOR_BGR2GRAY)\n",
    "                cv2.imwrite(f\"data/sub_data/{user_name}.png\", grayscale_face)\n",
    "#                 cv2.imwrite(f\"data/sub_data/{user_name}.png\", frame)\n",
    "        elif(option == 2):\n",
    "            print(\"Detect From Image\")\n",
    "            break\n",
    "            \n",
    "        else:\n",
    "            break\n",
    "\n",
    "    cv2.destroyAllWindows()\n"
   ]
  }
 ],
 "metadata": {
  "kernelspec": {
   "display_name": "Python 3 (ipykernel)",
   "language": "python",
   "name": "python3"
  },
  "language_info": {
   "codemirror_mode": {
    "name": "ipython",
    "version": 3
   },
   "file_extension": ".py",
   "mimetype": "text/x-python",
   "name": "python",
   "nbconvert_exporter": "python",
   "pygments_lexer": "ipython3",
   "version": "3.9.13"
  }
 },
 "nbformat": 4,
 "nbformat_minor": 5
}
